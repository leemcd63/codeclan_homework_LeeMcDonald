{
 "cells": [
  {
   "cell_type": "code",
   "execution_count": null,
   "id": "851adf94",
   "metadata": {},
   "outputs": [],
   "source": []
  },
  {
   "cell_type": "markdown",
   "id": "8951c3c5",
   "metadata": {},
   "source": [
    "# MVP\n",
    "\n",
    "## Question 1\n",
    "\n",
    "Create a list with the following data, and assign it to a variable named shopping: 'spam' 'ham' 'eggs' 'ham'"
   ]
  },
  {
   "cell_type": "code",
   "execution_count": 1,
   "id": "691727b8",
   "metadata": {},
   "outputs": [
    {
     "data": {
      "text/plain": [
       "['spam', 'ham', 'eggs', 'ham']"
      ]
     },
     "execution_count": 1,
     "metadata": {},
     "output_type": "execute_result"
    }
   ],
   "source": [
    "shopping = [\"spam\", \"ham\", \"eggs\", \"ham\"]\n",
    "shopping"
   ]
  },
  {
   "cell_type": "markdown",
   "id": "24d43342",
   "metadata": {},
   "source": [
    "Then do the following:\n",
    "\n",
    "Extract the second element of the list."
   ]
  },
  {
   "cell_type": "code",
   "execution_count": 3,
   "id": "148898f3",
   "metadata": {},
   "outputs": [
    {
     "data": {
      "text/plain": [
       "'ham'"
      ]
     },
     "execution_count": 3,
     "metadata": {},
     "output_type": "execute_result"
    }
   ],
   "source": [
    "shopping[1]"
   ]
  },
  {
   "cell_type": "markdown",
   "id": "610bb2da",
   "metadata": {},
   "source": [
    "Extract the first to third (inclusive) element of the list."
   ]
  },
  {
   "cell_type": "code",
   "execution_count": 4,
   "id": "ef5f14c4",
   "metadata": {},
   "outputs": [
    {
     "data": {
      "text/plain": [
       "['spam', 'ham', 'eggs']"
      ]
     },
     "execution_count": 4,
     "metadata": {},
     "output_type": "execute_result"
    }
   ],
   "source": [
    "shopping[0:-1]"
   ]
  },
  {
   "cell_type": "markdown",
   "id": "471be348",
   "metadata": {},
   "source": [
    "Extract only the last element of the list."
   ]
  },
  {
   "cell_type": "code",
   "execution_count": 5,
   "id": "4e5d715f",
   "metadata": {},
   "outputs": [
    {
     "data": {
      "text/plain": [
       "'ham'"
      ]
     },
     "execution_count": 5,
     "metadata": {},
     "output_type": "execute_result"
    }
   ],
   "source": [
    "shopping[-1]"
   ]
  },
  {
   "cell_type": "markdown",
   "id": "63f2e720",
   "metadata": {},
   "source": [
    "## Question 2\n",
    "Set up a list with the following elements:"
   ]
  },
  {
   "cell_type": "code",
   "execution_count": 16,
   "id": "e6fd6a8f",
   "metadata": {},
   "outputs": [
    {
     "data": {
      "text/plain": [
       "['Croy',\n",
       " 'Cumbernauld',\n",
       " 'Falkirk High',\n",
       " 'Linlithgow',\n",
       " 'Livingston',\n",
       " 'Haymarket']"
      ]
     },
     "execution_count": 16,
     "metadata": {},
     "output_type": "execute_result"
    }
   ],
   "source": [
    "stops = [\"Croy\", \"Cumbernauld\", \"Falkirk High\", \"Linlithgow\", \"Livingston\", \"Haymarket\"]\n",
    "stops"
   ]
  },
  {
   "cell_type": "markdown",
   "id": "bd89ae1d",
   "metadata": {},
   "source": [
    "Perform the following:\n",
    "\n",
    "Append Edinburgh Waverley to the end of the list"
   ]
  },
  {
   "cell_type": "code",
   "execution_count": 17,
   "id": "a5948019",
   "metadata": {},
   "outputs": [
    {
     "data": {
      "text/plain": [
       "['Croy',\n",
       " 'Cumbernauld',\n",
       " 'Falkirk High',\n",
       " 'Linlithgow',\n",
       " 'Livingston',\n",
       " 'Haymarket',\n",
       " 'Edinburgh Waverley']"
      ]
     },
     "execution_count": 17,
     "metadata": {},
     "output_type": "execute_result"
    }
   ],
   "source": [
    "stops.append(\"Edinburgh Waverley\")\n",
    "stops"
   ]
  },
  {
   "cell_type": "markdown",
   "id": "30e1d22b",
   "metadata": {},
   "source": [
    "Add \"Queen Street\" to the start of the list"
   ]
  },
  {
   "cell_type": "code",
   "execution_count": 18,
   "id": "c2b6bbc8",
   "metadata": {},
   "outputs": [
    {
     "data": {
      "text/plain": [
       "['Queen Street',\n",
       " 'Croy',\n",
       " 'Cumbernauld',\n",
       " 'Falkirk High',\n",
       " 'Linlithgow',\n",
       " 'Livingston',\n",
       " 'Haymarket',\n",
       " 'Edinburgh Waverley']"
      ]
     },
     "execution_count": 18,
     "metadata": {},
     "output_type": "execute_result"
    }
   ],
   "source": [
    "stops.insert(0, \"Queen Street\")\n",
    "stops"
   ]
  },
  {
   "cell_type": "markdown",
   "id": "777a2771",
   "metadata": {},
   "source": [
    "Find out what index \"Croy\" is at in the list"
   ]
  },
  {
   "cell_type": "code",
   "execution_count": 19,
   "id": "5906d25d",
   "metadata": {},
   "outputs": [
    {
     "data": {
      "text/plain": [
       "1"
      ]
     },
     "execution_count": 19,
     "metadata": {},
     "output_type": "execute_result"
    }
   ],
   "source": [
    "stops.index(\"Croy\")"
   ]
  },
  {
   "cell_type": "markdown",
   "id": "44ab7b15",
   "metadata": {},
   "source": [
    "Add \"Polmont\" at the appropriate point (between \"Falkirk High\" and \"Linlithgow\")"
   ]
  },
  {
   "cell_type": "code",
   "execution_count": 20,
   "id": "ad694748",
   "metadata": {},
   "outputs": [
    {
     "data": {
      "text/plain": [
       "['Queen Street',\n",
       " 'Croy',\n",
       " 'Cumbernauld',\n",
       " 'Falkirk High',\n",
       " 'Polmont',\n",
       " 'Linlithgow',\n",
       " 'Livingston',\n",
       " 'Haymarket',\n",
       " 'Edinburgh Waverley']"
      ]
     },
     "execution_count": 20,
     "metadata": {},
     "output_type": "execute_result"
    }
   ],
   "source": [
    "stops.insert(stops.index(\"Linlithgow\"), \"Polmont\")\n",
    "stops"
   ]
  },
  {
   "cell_type": "markdown",
   "id": "b121f086",
   "metadata": {},
   "source": [
    "Remove \"Haymarket\" from the list of stops"
   ]
  },
  {
   "cell_type": "code",
   "execution_count": 21,
   "id": "bcaf6394",
   "metadata": {},
   "outputs": [
    {
     "data": {
      "text/plain": [
       "['Queen Street',\n",
       " 'Croy',\n",
       " 'Cumbernauld',\n",
       " 'Falkirk High',\n",
       " 'Polmont',\n",
       " 'Linlithgow',\n",
       " 'Livingston',\n",
       " 'Edinburgh Waverley']"
      ]
     },
     "execution_count": 21,
     "metadata": {},
     "output_type": "execute_result"
    }
   ],
   "source": [
    "stops.remove(\"Haymarket\")\n",
    "stops"
   ]
  },
  {
   "cell_type": "markdown",
   "id": "b8487754",
   "metadata": {},
   "source": [
    "Remove all items from stops"
   ]
  },
  {
   "cell_type": "code",
   "execution_count": 27,
   "id": "0afb2b04",
   "metadata": {},
   "outputs": [
    {
     "data": {
      "text/plain": [
       "[]"
      ]
     },
     "execution_count": 27,
     "metadata": {},
     "output_type": "execute_result"
    }
   ],
   "source": [
    "stops.clear()\n",
    "stops"
   ]
  },
  {
   "cell_type": "markdown",
   "id": "763683b2",
   "metadata": {},
   "source": [
    "## Question 3\n",
    "\n",
    "Set up the following dictionary:"
   ]
  },
  {
   "cell_type": "code",
   "execution_count": 29,
   "id": "f194c592",
   "metadata": {},
   "outputs": [
    {
     "data": {
      "text/plain": [
       "{'name': 'Steph', 'age': 31, 'Instructor': True}"
      ]
     },
     "execution_count": 29,
     "metadata": {},
     "output_type": "execute_result"
    }
   ],
   "source": [
    "person = {\"name\": \"Steph\", \"age\": 31, \"Instructor\" : True}\n",
    "person"
   ]
  },
  {
   "cell_type": "markdown",
   "id": "285ea21a",
   "metadata": {},
   "source": [
    "Do the following:\n",
    "\n",
    "Return the keys, values and items from this dictionary"
   ]
  },
  {
   "cell_type": "code",
   "execution_count": 30,
   "id": "ffb58d47",
   "metadata": {},
   "outputs": [
    {
     "data": {
      "text/plain": [
       "dict_keys(['name', 'age', 'Instructor'])"
      ]
     },
     "execution_count": 30,
     "metadata": {},
     "output_type": "execute_result"
    }
   ],
   "source": [
    "person.keys()"
   ]
  },
  {
   "cell_type": "code",
   "execution_count": 31,
   "id": "9019cb48",
   "metadata": {},
   "outputs": [
    {
     "data": {
      "text/plain": [
       "dict_values(['Steph', 31, True])"
      ]
     },
     "execution_count": 31,
     "metadata": {},
     "output_type": "execute_result"
    }
   ],
   "source": [
    "person.values()"
   ]
  },
  {
   "cell_type": "code",
   "execution_count": 32,
   "id": "da25348f",
   "metadata": {},
   "outputs": [
    {
     "data": {
      "text/plain": [
       "dict_items([('name', 'Steph'), ('age', 31), ('Instructor', True)])"
      ]
     },
     "execution_count": 32,
     "metadata": {},
     "output_type": "execute_result"
    }
   ],
   "source": [
    "person.items()"
   ]
  },
  {
   "cell_type": "markdown",
   "id": "f52d8d72",
   "metadata": {},
   "source": [
    "Take out only the name from it"
   ]
  },
  {
   "cell_type": "code",
   "execution_count": 33,
   "id": "05b6ff9c",
   "metadata": {},
   "outputs": [
    {
     "data": {
      "text/plain": [
       "'Steph'"
      ]
     },
     "execution_count": 33,
     "metadata": {},
     "output_type": "execute_result"
    }
   ],
   "source": [
    "person[\"name\"]"
   ]
  },
  {
   "cell_type": "markdown",
   "id": "2a2a2443",
   "metadata": {},
   "source": [
    "Add a new key:value pair, which adds the email \"steph@codeclan.com\" to the dictionary"
   ]
  },
  {
   "cell_type": "code",
   "execution_count": 35,
   "id": "555fe1d7",
   "metadata": {},
   "outputs": [
    {
     "data": {
      "text/plain": [
       "{'name': 'Steph', 'age': 31, 'Instructor': True, 'email': 'steph@codeclan.com'}"
      ]
     },
     "execution_count": 35,
     "metadata": {},
     "output_type": "execute_result"
    }
   ],
   "source": [
    "person.update({\n",
    "    \"email\": \"steph@codeclan.com\"\n",
    "})\n",
    "person"
   ]
  },
  {
   "cell_type": "markdown",
   "id": "39c4a680",
   "metadata": {},
   "source": [
    "Delete the job description from the dictionary (Hint: look up the del function)"
   ]
  },
  {
   "cell_type": "code",
   "execution_count": 36,
   "id": "bca2e6da",
   "metadata": {},
   "outputs": [
    {
     "data": {
      "text/plain": [
       "{'name': 'Steph', 'age': 31, 'email': 'steph@codeclan.com'}"
      ]
     },
     "execution_count": 36,
     "metadata": {},
     "output_type": "execute_result"
    }
   ],
   "source": [
    "del person[\"Instructor\"]\n",
    "person"
   ]
  },
  {
   "cell_type": "markdown",
   "id": "fe4ffef7",
   "metadata": {},
   "source": [
    "## Question 4\n",
    "\n",
    "For the following list of numbers:"
   ]
  },
  {
   "cell_type": "code",
   "execution_count": 49,
   "id": "cb5203fd",
   "metadata": {},
   "outputs": [
    {
     "data": {
      "text/plain": [
       "[1, 6, 2, 2, 7, 1, 6, 13, 99, 7]"
      ]
     },
     "execution_count": 49,
     "metadata": {},
     "output_type": "execute_result"
    }
   ],
   "source": [
    "numbers = [1, 6, 2, 2, 7, 1, 6, 13, 99, 7]\n",
    "numbers"
   ]
  },
  {
   "cell_type": "markdown",
   "id": "89aa4528",
   "metadata": {},
   "source": [
    "Print out a list of the even integers:"
   ]
  },
  {
   "cell_type": "code",
   "execution_count": 41,
   "id": "c5503afc",
   "metadata": {},
   "outputs": [
    {
     "data": {
      "text/plain": [
       "[6, 2, 2, 6]"
      ]
     },
     "execution_count": 41,
     "metadata": {},
     "output_type": "execute_result"
    }
   ],
   "source": [
    "[number for number in numbers if number % 2 == 0]"
   ]
  },
  {
   "cell_type": "markdown",
   "id": "466ecb22",
   "metadata": {},
   "source": [
    "Print the difference between the largest and smallest value:"
   ]
  },
  {
   "cell_type": "code",
   "execution_count": 42,
   "id": "d91d1847",
   "metadata": {},
   "outputs": [
    {
     "data": {
      "text/plain": [
       "98"
      ]
     },
     "execution_count": 42,
     "metadata": {},
     "output_type": "execute_result"
    }
   ],
   "source": [
    "max(numbers) - min(numbers)"
   ]
  },
  {
   "cell_type": "markdown",
   "id": "6012db6c",
   "metadata": {},
   "source": [
    "Print True if the list contains a 2 next to a 2 somewhere."
   ]
  },
  {
   "cell_type": "code",
   "execution_count": 53,
   "id": "cad7a619",
   "metadata": {},
   "outputs": [
    {
     "name": "stdout",
     "output_type": "stream",
     "text": [
      "True\n"
     ]
    }
   ],
   "source": [
    "prev = 0\n",
    "\n",
    "for i in numbers:\n",
    "    if i == prev:\n",
    "        print(True)\n",
    "    prev = i"
   ]
  },
  {
   "cell_type": "markdown",
   "id": "2a6aff75",
   "metadata": {},
   "source": [
    "Print the sum of the numbers, BUT ignore any section of numbers starting with a 6 and extending to the next 7. So [11, 6, 4, 99, 7, 11] would have sum of 22"
   ]
  },
  {
   "cell_type": "code",
   "execution_count": 81,
   "id": "e3299a38",
   "metadata": {},
   "outputs": [
    {
     "data": {
      "text/plain": [
       "2"
      ]
     },
     "execution_count": 81,
     "metadata": {},
     "output_type": "execute_result"
    }
   ],
   "source": [
    "sum_numbers = 0\n",
    "six_seven_flag = False\n",
    "\n",
    "for i in numbers:\n",
    "    if six_seven_flag == True:\n",
    "        if i == 7:\n",
    "            six_seven_flag = False\n",
    "    elif i == 6:\n",
    "        six_seven_flag = True\n",
    "    else:\n",
    "        sum_numbers += i\n",
    "        \n",
    "sum_numbers\n"
   ]
  },
  {
   "cell_type": "markdown",
   "id": "4b3ac813",
   "metadata": {},
   "source": [
    "## Question 5\n",
    "\n",
    "Write a conditional that takes in two inputs :"
   ]
  },
  {
   "cell_type": "code",
   "execution_count": 62,
   "id": "a676f738",
   "metadata": {},
   "outputs": [],
   "source": [
    "python_is_fun = True\n",
    "python_is_weird = True"
   ]
  },
  {
   "cell_type": "markdown",
   "id": "ac054fe1",
   "metadata": {},
   "source": [
    "We want to print \"Woo Python!\" if either python_is_fun is true OR python_is_weird is true OR both python_is_fun and python_is_weird are true. Otherwise, print \"Python is not for me!\". Make sure you test all the combinations. "
   ]
  },
  {
   "cell_type": "code",
   "execution_count": 65,
   "id": "848c7fef",
   "metadata": {},
   "outputs": [
    {
     "name": "stdout",
     "output_type": "stream",
     "text": [
      "Woo Python!\n"
     ]
    }
   ],
   "source": [
    "def python_test(fun, weird):\n",
    "    if fun == True or weird == True or (fun == True and weird == True):\n",
    "        print(\"Woo Python!\")\n",
    "    else:\n",
    "        print(\"Python is not for me!\")\n",
    "        \n",
    "python_test(python_is_fun, python_is_weird)\n"
   ]
  },
  {
   "cell_type": "code",
   "execution_count": 67,
   "id": "e5e23e97",
   "metadata": {},
   "outputs": [
    {
     "name": "stdout",
     "output_type": "stream",
     "text": [
      "Woo Python!\n"
     ]
    }
   ],
   "source": [
    "python_is_fun = True\n",
    "python_is_weird = False\n",
    "\n",
    "python_test(python_is_fun, python_is_weird)"
   ]
  },
  {
   "cell_type": "code",
   "execution_count": 66,
   "id": "2391f35e",
   "metadata": {},
   "outputs": [
    {
     "name": "stdout",
     "output_type": "stream",
     "text": [
      "Python is not for me!\n"
     ]
    }
   ],
   "source": [
    "python_is_fun = False\n",
    "python_is_weird = False\n",
    "\n",
    "python_test(python_is_fun, python_is_weird)"
   ]
  },
  {
   "cell_type": "markdown",
   "id": "52b5086f",
   "metadata": {},
   "source": [
    "## Question 6\n",
    "\n",
    "We have a list of chickens and the farmer would like to go through all the chickens, collecting the eggs and getting the total number of eggs collected."
   ]
  },
  {
   "cell_type": "code",
   "execution_count": 88,
   "id": "77712837",
   "metadata": {},
   "outputs": [
    {
     "data": {
      "text/plain": [
       "[{'name': 'Margaret', 'age': 2, 'eggs': 0},\n",
       " {'name': 'Hetty', 'age': 1, 'eggs': 2},\n",
       " {'name': 'Henrietta', 'age': 3, 'eggs': 1},\n",
       " {'name': 'Audrey', 'age': 2, 'eggs': 0},\n",
       " {'name': 'Mabel', 'age': 5, 'eggs': 1}]"
      ]
     },
     "execution_count": 88,
     "metadata": {},
     "output_type": "execute_result"
    }
   ],
   "source": [
    "chickens = [\n",
    "  { \"name\": \"Margaret\", \"age\": 2, \"eggs\": 0 },\n",
    "  { \"name\": \"Hetty\", \"age\": 1, \"eggs\": 2 },\n",
    "  { \"name\": \"Henrietta\", \"age\": 3, \"eggs\": 1 },\n",
    "  { \"name\": \"Audrey\", \"age\": 2, \"eggs\": 0 },\n",
    "  { \"name\": \"Mabel\", \"age\": 5, \"eggs\": 1 },\n",
    "]\n",
    "chickens"
   ]
  },
  {
   "cell_type": "markdown",
   "id": "3b49b5b4",
   "metadata": {},
   "source": [
    "To write this as a loop, we'd do something like this:"
   ]
  },
  {
   "cell_type": "code",
   "execution_count": 69,
   "id": "b41d1080",
   "metadata": {},
   "outputs": [
    {
     "name": "stdout",
     "output_type": "stream",
     "text": [
      "4 eggs collected\n"
     ]
    }
   ],
   "source": [
    "total_eggs = 0\n",
    "\n",
    "for chicken in chickens:\n",
    "    total_eggs += chicken[\"eggs\"]\n",
    "    chicken[\"eggs\"] = 0 # eggs have been collected\n",
    "\n",
    "print(f\"{total_eggs} eggs collected\")"
   ]
  },
  {
   "cell_type": "markdown",
   "id": "052be2b0",
   "metadata": {},
   "source": [
    "Instead, we want to define a function which passes in a list, so that if we wanted to count eggs of a different list of chickens from another farm, we can use the same function, just pass in a different list.\n",
    "\n",
    "We also want to return the string at the end, instead of using print."
   ]
  },
  {
   "cell_type": "code",
   "execution_count": 89,
   "id": "eabd8064",
   "metadata": {},
   "outputs": [
    {
     "data": {
      "text/plain": [
       "'4 eggs collected'"
      ]
     },
     "execution_count": 89,
     "metadata": {},
     "output_type": "execute_result"
    }
   ],
   "source": [
    "def chicken_list(chickens):\n",
    "    total_eggs = 0\n",
    "    for chicken in chickens:\n",
    "        total_eggs += chicken[\"eggs\"]\n",
    "        chicken[\"eggs\"] = 0\n",
    "    return(str(total_eggs) + \" eggs collected\")\n",
    "\n",
    "chicken_list(chickens)"
   ]
  },
  {
   "cell_type": "markdown",
   "id": "82636449",
   "metadata": {},
   "source": [
    "# Extension\n",
    "\n",
    "## Question 1\n",
    "\n",
    "Set up the following collection:"
   ]
  },
  {
   "cell_type": "code",
   "execution_count": 118,
   "id": "a52e3a08",
   "metadata": {},
   "outputs": [
    {
     "data": {
      "text/plain": [
       "[{'name': 'Scotland', 'population': 5295000, 'capital': 'Edinburgh'},\n",
       " {'name': 'Wales', 'population': 3063000, 'capital': 'Swansea'},\n",
       " {'name': 'England', 'population': 53010000, 'capital': 'London'}]"
      ]
     },
     "execution_count": 118,
     "metadata": {},
     "output_type": "execute_result"
    }
   ],
   "source": [
    "united_kingdom = [\n",
    "  {\n",
    "    \"name\": \"Scotland\",\n",
    "    \"population\": 5295000,\n",
    "    \"capital\": \"Edinburgh\"\n",
    "  },\n",
    "  {\n",
    "    \"name\": \"Wales\",\n",
    "    \"population\": 3063000,\n",
    "    \"capital\": \"Swansea\"\n",
    "  },\n",
    "  {\n",
    "    \"name\": \"England\",\n",
    "    \"population\": 53010000,\n",
    "    \"capital\": \"London\"\n",
    "  }\n",
    "]\n",
    "\n",
    "united_kingdom"
   ]
  },
  {
   "cell_type": "markdown",
   "id": "5d0a11b9",
   "metadata": {},
   "source": [
    "Change the capital of Wales from \"Swansea\" to \"Cardiff\"."
   ]
  },
  {
   "cell_type": "code",
   "execution_count": 119,
   "id": "a1250ad8",
   "metadata": {},
   "outputs": [
    {
     "data": {
      "text/plain": [
       "[{'name': 'Scotland', 'population': 5295000, 'capital': 'Edinburgh'},\n",
       " {'name': 'Wales', 'population': 3063000, 'capital': 'Cardiff'},\n",
       " {'name': 'England', 'population': 53010000, 'capital': 'London'}]"
      ]
     },
     "execution_count": 119,
     "metadata": {},
     "output_type": "execute_result"
    }
   ],
   "source": [
    "united_kingdom[1][\"capital\"] = \"Cardiff\"\n",
    "\n",
    "united_kingdom"
   ]
  },
  {
   "cell_type": "markdown",
   "id": "d7cfda61",
   "metadata": {},
   "source": [
    "Create a dictionary for Northern Ireland and add it to the united_kingdom list (The capital is Belfast, and the population is 1,811,000)."
   ]
  },
  {
   "cell_type": "code",
   "execution_count": 120,
   "id": "2088bd3d",
   "metadata": {},
   "outputs": [
    {
     "data": {
      "text/plain": [
       "[{'name': 'Scotland', 'population': 5295000, 'capital': 'Edinburgh'},\n",
       " {'name': 'Wales', 'population': 3063000, 'capital': 'Cardiff'},\n",
       " {'name': 'England', 'population': 53010000, 'capital': 'London'},\n",
       " {'name': 'Northern Ireland', 'population': 1811000, 'capital': 'Belfast'}]"
      ]
     },
     "execution_count": 120,
     "metadata": {},
     "output_type": "execute_result"
    }
   ],
   "source": [
    "united_kingdom.append({\n",
    "    \"name\": \"Northern Ireland\",\n",
    "    \"population\": 1811000,\n",
    "    \"capital\": \"Belfast\"\n",
    "})\n",
    "\n",
    "united_kingdom"
   ]
  },
  {
   "cell_type": "markdown",
   "id": "c9595d98",
   "metadata": {},
   "source": [
    "Use a loop to print the names of all the countries in the UK."
   ]
  },
  {
   "cell_type": "code",
   "execution_count": 122,
   "id": "37a01540",
   "metadata": {},
   "outputs": [
    {
     "name": "stdout",
     "output_type": "stream",
     "text": [
      "Scotland\n",
      "Wales\n",
      "England\n",
      "Northern Ireland\n"
     ]
    }
   ],
   "source": [
    "for i in range(len(united_kingdom)):\n",
    "    print(united_kingdom[i][\"name\"])"
   ]
  },
  {
   "cell_type": "markdown",
   "id": "b75b215d",
   "metadata": {},
   "source": [
    "Use a loop to find the total population of the UK."
   ]
  },
  {
   "cell_type": "code",
   "execution_count": 125,
   "id": "9810b6a0",
   "metadata": {
    "scrolled": true
   },
   "outputs": [
    {
     "name": "stdout",
     "output_type": "stream",
     "text": [
      "The total population of the UK is 63179000\n"
     ]
    }
   ],
   "source": [
    "total_pop = 0\n",
    "\n",
    "for i in range(len(united_kingdom)):\n",
    "    total_pop += united_kingdom[i][\"population\"]\n",
    "    \n",
    "print(\"The total population of the UK is\", total_pop)"
   ]
  },
  {
   "cell_type": "markdown",
   "id": "0ce675f0",
   "metadata": {},
   "source": [
    "## Question 2\n",
    "\n",
    "Set up the following:"
   ]
  },
  {
   "cell_type": "code",
   "execution_count": 178,
   "id": "70c5b53c",
   "metadata": {},
   "outputs": [],
   "source": [
    "users = {\n",
    "  \"Jonathan\": {\n",
    "    \"twitter\": \"jonnyt\",\n",
    "    \"lottery_numbers\": [6, 12, 49, 33, 45, 20],\n",
    "    \"home_town\": \"Stirling\",\n",
    "    \"pets\": [\n",
    "    {\n",
    "      \"name\": \"fluffy\",\n",
    "      \"species\": \"cat\"\n",
    "    },\n",
    "    {\n",
    "      \"name\": \"fido\",\n",
    "      \"species\": \"dog\"\n",
    "    },\n",
    "    {\n",
    "      \"name\": \"spike\",\n",
    "      \"species\": \"dog\"\n",
    "    }\n",
    "  ]\n",
    "  },\n",
    "  \"Erik\": {\n",
    "    \"twitter\": \"eriksf\",\n",
    "    \"lottery_numbers\": [18, 34, 8, 11, 24],\n",
    "    \"home_town\": \"Linlithgow\",\n",
    "    \"pets\": [\n",
    "    {\n",
    "      \"name\": \"nemo\",\n",
    "      \"species\": \"fish\"\n",
    "    },\n",
    "    {\n",
    "      \"name\": \"kevin\",\n",
    "      \"species\": \"fish\"\n",
    "    },\n",
    "    {\n",
    "      \"name\": \"spike\",\n",
    "      \"species\": \"dog\"\n",
    "    },\n",
    "    {\n",
    "      \"name\": \"rupert\",\n",
    "      \"species\": \"parrot\"\n",
    "    }\n",
    "  ]\n",
    "  },\n",
    "  \"Avril\": {\n",
    "    \"twitter\": \"bridgpally\",\n",
    "    \"lottery_numbers\": [12, 14, 33, 38, 9, 25],\n",
    "    \"home_town\": \"Dunbar\",\n",
    "    \"pets\": [\n",
    "      {\n",
    "        \"name\": \"monty\",\n",
    "        \"species\": \"snake\"\n",
    "      }\n",
    "    ]\n",
    "  }\n",
    "}"
   ]
  },
  {
   "cell_type": "markdown",
   "id": "6b038f82",
   "metadata": {},
   "source": [
    "Get Jonathan's Twitter handle (i.e. the string \"jonnyt\")"
   ]
  },
  {
   "cell_type": "code",
   "execution_count": 127,
   "id": "bc7ce67c",
   "metadata": {},
   "outputs": [
    {
     "data": {
      "text/plain": [
       "'jonnyt'"
      ]
     },
     "execution_count": 127,
     "metadata": {},
     "output_type": "execute_result"
    }
   ],
   "source": [
    "users[\"Jonathan\"][\"twitter\"]"
   ]
  },
  {
   "cell_type": "markdown",
   "id": "cc3d4eb2",
   "metadata": {},
   "source": [
    "Get Erik's hometown"
   ]
  },
  {
   "cell_type": "code",
   "execution_count": 128,
   "id": "3bf3c313",
   "metadata": {},
   "outputs": [
    {
     "data": {
      "text/plain": [
       "'Stirling'"
      ]
     },
     "execution_count": 128,
     "metadata": {},
     "output_type": "execute_result"
    }
   ],
   "source": [
    "users[\"Jonathan\"][\"home_town\"]"
   ]
  },
  {
   "cell_type": "markdown",
   "id": "fa972f71",
   "metadata": {},
   "source": [
    "Get the array of Erik's lottery numbers"
   ]
  },
  {
   "cell_type": "code",
   "execution_count": 169,
   "id": "4797d961",
   "metadata": {},
   "outputs": [
    {
     "data": {
      "text/plain": [
       "[18, 34, 8, 11, 24, 7]"
      ]
     },
     "execution_count": 169,
     "metadata": {},
     "output_type": "execute_result"
    }
   ],
   "source": [
    "users[\"Erik\"][\"lottery_numbers\"]"
   ]
  },
  {
   "cell_type": "markdown",
   "id": "34bf88f8",
   "metadata": {},
   "source": [
    "Get the species of Avril's pet Monty"
   ]
  },
  {
   "cell_type": "code",
   "execution_count": 151,
   "id": "86d69a84",
   "metadata": {},
   "outputs": [
    {
     "data": {
      "text/plain": [
       "'snake'"
      ]
     },
     "execution_count": 151,
     "metadata": {},
     "output_type": "execute_result"
    }
   ],
   "source": [
    "users[\"Avril\"][\"pets\"][0][\"species\"]\n"
   ]
  },
  {
   "cell_type": "markdown",
   "id": "4dd67ffe",
   "metadata": {},
   "source": [
    "Get the smallest of Erik's lottery numbers"
   ]
  },
  {
   "cell_type": "code",
   "execution_count": 153,
   "id": "9282990b",
   "metadata": {},
   "outputs": [
    {
     "data": {
      "text/plain": [
       "8"
      ]
     },
     "execution_count": 153,
     "metadata": {},
     "output_type": "execute_result"
    }
   ],
   "source": [
    "min(users[\"Erik\"][\"lottery_numbers\"])"
   ]
  },
  {
   "cell_type": "markdown",
   "id": "f6a9e91c",
   "metadata": {},
   "source": [
    "Return an array of Avril's lottery numbers that are even"
   ]
  },
  {
   "cell_type": "code",
   "execution_count": 161,
   "id": "4ed88900",
   "metadata": {},
   "outputs": [
    {
     "data": {
      "text/plain": [
       "[12, 14, 38]"
      ]
     },
     "execution_count": 161,
     "metadata": {},
     "output_type": "execute_result"
    }
   ],
   "source": [
    "[number for number in users[\"Avril\"][\"lottery_numbers\"] if number % 2 == 0]"
   ]
  },
  {
   "cell_type": "markdown",
   "id": "397677b8",
   "metadata": {},
   "source": [
    "Erik is one lottery number short! Add the number 7 to be included in his lottery numbers"
   ]
  },
  {
   "cell_type": "code",
   "execution_count": 179,
   "id": "face64a5",
   "metadata": {},
   "outputs": [
    {
     "data": {
      "text/plain": [
       "[18, 34, 8, 11, 24, 7]"
      ]
     },
     "execution_count": 179,
     "metadata": {},
     "output_type": "execute_result"
    }
   ],
   "source": [
    "users[\"Erik\"][\"lottery_numbers\"].append(7)\n",
    "\n",
    "users[\"Erik\"][\"lottery_numbers\"]"
   ]
  },
  {
   "cell_type": "markdown",
   "id": "7ff1d5f0",
   "metadata": {},
   "source": [
    "Change Erik's hometown to Edinburgh"
   ]
  },
  {
   "cell_type": "code",
   "execution_count": 175,
   "id": "7cbdcea2",
   "metadata": {},
   "outputs": [
    {
     "data": {
      "text/plain": [
       "'Edinburgh'"
      ]
     },
     "execution_count": 175,
     "metadata": {},
     "output_type": "execute_result"
    }
   ],
   "source": [
    "users[\"Erik\"][\"home_town\"] = \"Edinburgh\"\n",
    "\n",
    "users[\"Erik\"][\"home_town\"]"
   ]
  },
  {
   "cell_type": "markdown",
   "id": "b4e65e0b",
   "metadata": {},
   "source": [
    "Add a pet dog to Erik called \"Fluffy\""
   ]
  },
  {
   "cell_type": "code",
   "execution_count": 180,
   "id": "24d2a0f9",
   "metadata": {},
   "outputs": [
    {
     "data": {
      "text/plain": [
       "{'Jonathan': {'twitter': 'jonnyt',\n",
       "  'lottery_numbers': [6, 12, 49, 33, 45, 20],\n",
       "  'home_town': 'Stirling',\n",
       "  'pets': [{'name': 'fluffy', 'species': 'cat'},\n",
       "   {'name': 'fido', 'species': 'dog'},\n",
       "   {'name': 'spike', 'species': 'dog'}]},\n",
       " 'Erik': {'twitter': 'eriksf',\n",
       "  'lottery_numbers': [18, 34, 8, 11, 24, 7],\n",
       "  'home_town': 'Linlithgow',\n",
       "  'pets': [{'name': 'nemo', 'species': 'fish'},\n",
       "   {'name': 'kevin', 'species': 'fish'},\n",
       "   {'name': 'spike', 'species': 'dog'},\n",
       "   {'name': 'rupert', 'species': 'parrot'},\n",
       "   {'name': 'Fluffy', 'species': 'Hedgehog'}]},\n",
       " 'Avril': {'twitter': 'bridgpally',\n",
       "  'lottery_numbers': [12, 14, 33, 38, 9, 25],\n",
       "  'home_town': 'Dunbar',\n",
       "  'pets': [{'name': 'monty', 'species': 'snake'}]}}"
      ]
     },
     "execution_count": 180,
     "metadata": {},
     "output_type": "execute_result"
    }
   ],
   "source": [
    "users[\"Erik\"][\"pets\"].append({\n",
    "    \"name\": \"Fluffy\",\n",
    "    \"species\": \"Hedgehog\"\n",
    "})\n",
    "\n",
    "users"
   ]
  },
  {
   "cell_type": "markdown",
   "id": "a2f4f038",
   "metadata": {},
   "source": [
    "Add another person to the users dictionary"
   ]
  },
  {
   "cell_type": "code",
   "execution_count": 183,
   "id": "3aea84bb",
   "metadata": {},
   "outputs": [],
   "source": [
    "users[\"Frank\"] = [{\n",
    "    \"twitter\": \"dannydevito\",\n",
    "    \"lottery_numbers\": [2, 16, 7, 42, 14],\n",
    "    \"home_town\": \"Philadelphia\",\n",
    "    \"pets\": {\n",
    "      \"name\": \"Egg\",\n",
    "      \"species\": \"Egg\"\n",
    "    }}]\n"
   ]
  },
  {
   "cell_type": "code",
   "execution_count": 184,
   "id": "05869cea",
   "metadata": {},
   "outputs": [
    {
     "data": {
      "text/plain": [
       "{'Jonathan': {'twitter': 'jonnyt',\n",
       "  'lottery_numbers': [6, 12, 49, 33, 45, 20],\n",
       "  'home_town': 'Stirling',\n",
       "  'pets': [{'name': 'fluffy', 'species': 'cat'},\n",
       "   {'name': 'fido', 'species': 'dog'},\n",
       "   {'name': 'spike', 'species': 'dog'}]},\n",
       " 'Erik': {'twitter': 'eriksf',\n",
       "  'lottery_numbers': [18, 34, 8, 11, 24, 7],\n",
       "  'home_town': 'Linlithgow',\n",
       "  'pets': [{'name': 'nemo', 'species': 'fish'},\n",
       "   {'name': 'kevin', 'species': 'fish'},\n",
       "   {'name': 'spike', 'species': 'dog'},\n",
       "   {'name': 'rupert', 'species': 'parrot'},\n",
       "   {'name': 'Fluffy', 'species': 'Hedgehog'}]},\n",
       " 'Avril': {'twitter': 'bridgpally',\n",
       "  'lottery_numbers': [12, 14, 33, 38, 9, 25],\n",
       "  'home_town': 'Dunbar',\n",
       "  'pets': [{'name': 'monty', 'species': 'snake'}]},\n",
       " 'Frank': [{'twitter': 'dannydevito',\n",
       "   'lottery_numbers': [2, 16, 7, 42, 14],\n",
       "   'home_town': 'Philadelphia',\n",
       "   'pets': {'name': 'Egg', 'species': 'Egg'}}]}"
      ]
     },
     "execution_count": 184,
     "metadata": {},
     "output_type": "execute_result"
    }
   ],
   "source": [
    "users"
   ]
  }
 ],
 "metadata": {
  "kernelspec": {
   "display_name": "Python 3",
   "language": "python",
   "name": "python3"
  },
  "language_info": {
   "codemirror_mode": {
    "name": "ipython",
    "version": 3
   },
   "file_extension": ".py",
   "mimetype": "text/x-python",
   "name": "python",
   "nbconvert_exporter": "python",
   "pygments_lexer": "ipython3",
   "version": "3.8.8"
  },
  "varInspector": {
   "cols": {
    "lenName": 16,
    "lenType": 16,
    "lenVar": 40
   },
   "kernels_config": {
    "python": {
     "delete_cmd_postfix": "",
     "delete_cmd_prefix": "del ",
     "library": "var_list.py",
     "varRefreshCmd": "print(var_dic_list())"
    },
    "r": {
     "delete_cmd_postfix": ") ",
     "delete_cmd_prefix": "rm(",
     "library": "var_list.r",
     "varRefreshCmd": "cat(var_dic_list()) "
    }
   },
   "types_to_exclude": [
    "module",
    "function",
    "builtin_function_or_method",
    "instance",
    "_Feature"
   ],
   "window_display": false
  }
 },
 "nbformat": 4,
 "nbformat_minor": 5
}
